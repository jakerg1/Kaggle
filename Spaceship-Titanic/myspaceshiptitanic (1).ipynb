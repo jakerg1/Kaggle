{
 "cells": [
  {
   "cell_type": "markdown",
   "id": "d97e063c",
   "metadata": {},
   "source": [
    "Welcome to the year 2912, where your data science skills are needed to solve a cosmic mystery. We've received a transmission from four lightyears away and things aren't looking good.\n",
    "\n",
    "The Spaceship Titanic was an interstellar passenger liner launched a month ago. With almost 13,000 passengers on board, the vessel set out on its maiden voyage transporting emigrants from our solar system to three newly habitable exoplanets orbiting nearby stars.\n",
    "\n",
    "While rounding Alpha Centauri en route to its first destination—the torrid 55 Cancri E—the unwary Spaceship Titanic collided with a spacetime anomaly hidden within a dust cloud. Sadly, it met a similar fate as its namesake from 1000 years before. Though the ship stayed intact, almost half of the passengers were transported to an alternate dimension!\n",
    "\n",
    "To help rescue crews and retrieve the lost passengers, you are challenged to predict which passengers were transported by the anomaly using records recovered from the spaceship’s damaged computer system.\n",
    "\n",
    "Help save them and change history!"
   ]
  },
  {
   "cell_type": "code",
   "execution_count": null,
   "id": "d9f1453f",
   "metadata": {
    "_cell_guid": "b1076dfc-b9ad-4769-8c92-a6c4dae69d19",
    "_uuid": "8f2839f25d086af736a60e9eeb907d3b93b6e0e5",
    "execution": {
     "iopub.execute_input": "2025-03-25T21:08:34.684562Z",
     "iopub.status.busy": "2025-03-25T21:08:34.684124Z",
     "iopub.status.idle": "2025-03-25T21:08:53.892159Z",
     "shell.execute_reply": "2025-03-25T21:08:53.890676Z"
    },
    "papermill": {
     "duration": 19.217155,
     "end_time": "2025-03-25T21:08:53.894038",
     "exception": false,
     "start_time": "2025-03-25T21:08:34.676883",
     "status": "completed"
    },
    "tags": []
   },
   "outputs": [
    {
     "name": "stdout",
     "output_type": "stream",
     "text": [
      "/kaggle/input/spaceship-titanic/sample_submission.csv\n",
      "/kaggle/input/spaceship-titanic/train.csv\n",
      "/kaggle/input/spaceship-titanic/test.csv\n"
     ]
    }
   ],
   "source": [
    "\n",
    "\n",
    "import numpy as np # linear algebra\n",
    "import pandas as pd # data processing, CSV file I/O (e.g. pd.read_csv)\n",
    "import matplotlib.pyplot as plt\n",
    "import tensorflow as tf \n",
    "import tensorflow_decision_forests as tfdf\n",
    "\n",
    "\n",
    "import os\n",
    "for dirname, _, filenames in os.walk('/kaggle/input'):\n",
    "    for filename in filenames:\n",
    "        print(os.path.join(dirname, filename))\n"
   ]
  },
  {
   "cell_type": "code",
   "execution_count": 2,
   "id": "affdfde3",
   "metadata": {
    "execution": {
     "iopub.execute_input": "2025-03-25T21:08:53.905711Z",
     "iopub.status.busy": "2025-03-25T21:08:53.905031Z",
     "iopub.status.idle": "2025-03-25T21:08:54.016720Z",
     "shell.execute_reply": "2025-03-25T21:08:54.015612Z"
    },
    "papermill": {
     "duration": 0.119123,
     "end_time": "2025-03-25T21:08:54.018412",
     "exception": false,
     "start_time": "2025-03-25T21:08:53.899289",
     "status": "completed"
    },
    "tags": []
   },
   "outputs": [
    {
     "data": {
      "text/html": [
       "<div>\n",
       "<style scoped>\n",
       "    .dataframe tbody tr th:only-of-type {\n",
       "        vertical-align: middle;\n",
       "    }\n",
       "\n",
       "    .dataframe tbody tr th {\n",
       "        vertical-align: top;\n",
       "    }\n",
       "\n",
       "    .dataframe thead th {\n",
       "        text-align: right;\n",
       "    }\n",
       "</style>\n",
       "<table border=\"1\" class=\"dataframe\">\n",
       "  <thead>\n",
       "    <tr style=\"text-align: right;\">\n",
       "      <th></th>\n",
       "      <th>PassengerId</th>\n",
       "      <th>HomePlanet</th>\n",
       "      <th>CryoSleep</th>\n",
       "      <th>Cabin</th>\n",
       "      <th>Destination</th>\n",
       "      <th>Age</th>\n",
       "      <th>VIP</th>\n",
       "      <th>RoomService</th>\n",
       "      <th>FoodCourt</th>\n",
       "      <th>ShoppingMall</th>\n",
       "      <th>Spa</th>\n",
       "      <th>VRDeck</th>\n",
       "      <th>Name</th>\n",
       "      <th>Transported</th>\n",
       "    </tr>\n",
       "  </thead>\n",
       "  <tbody>\n",
       "    <tr>\n",
       "      <th>0</th>\n",
       "      <td>0001_01</td>\n",
       "      <td>Europa</td>\n",
       "      <td>False</td>\n",
       "      <td>B/0/P</td>\n",
       "      <td>TRAPPIST-1e</td>\n",
       "      <td>39.0</td>\n",
       "      <td>False</td>\n",
       "      <td>0.0</td>\n",
       "      <td>0.0</td>\n",
       "      <td>0.0</td>\n",
       "      <td>0.0</td>\n",
       "      <td>0.0</td>\n",
       "      <td>Maham Ofracculy</td>\n",
       "      <td>False</td>\n",
       "    </tr>\n",
       "    <tr>\n",
       "      <th>1</th>\n",
       "      <td>0002_01</td>\n",
       "      <td>Earth</td>\n",
       "      <td>False</td>\n",
       "      <td>F/0/S</td>\n",
       "      <td>TRAPPIST-1e</td>\n",
       "      <td>24.0</td>\n",
       "      <td>False</td>\n",
       "      <td>109.0</td>\n",
       "      <td>9.0</td>\n",
       "      <td>25.0</td>\n",
       "      <td>549.0</td>\n",
       "      <td>44.0</td>\n",
       "      <td>Juanna Vines</td>\n",
       "      <td>True</td>\n",
       "    </tr>\n",
       "    <tr>\n",
       "      <th>2</th>\n",
       "      <td>0003_01</td>\n",
       "      <td>Europa</td>\n",
       "      <td>False</td>\n",
       "      <td>A/0/S</td>\n",
       "      <td>TRAPPIST-1e</td>\n",
       "      <td>58.0</td>\n",
       "      <td>True</td>\n",
       "      <td>43.0</td>\n",
       "      <td>3576.0</td>\n",
       "      <td>0.0</td>\n",
       "      <td>6715.0</td>\n",
       "      <td>49.0</td>\n",
       "      <td>Altark Susent</td>\n",
       "      <td>False</td>\n",
       "    </tr>\n",
       "    <tr>\n",
       "      <th>3</th>\n",
       "      <td>0003_02</td>\n",
       "      <td>Europa</td>\n",
       "      <td>False</td>\n",
       "      <td>A/0/S</td>\n",
       "      <td>TRAPPIST-1e</td>\n",
       "      <td>33.0</td>\n",
       "      <td>False</td>\n",
       "      <td>0.0</td>\n",
       "      <td>1283.0</td>\n",
       "      <td>371.0</td>\n",
       "      <td>3329.0</td>\n",
       "      <td>193.0</td>\n",
       "      <td>Solam Susent</td>\n",
       "      <td>False</td>\n",
       "    </tr>\n",
       "    <tr>\n",
       "      <th>4</th>\n",
       "      <td>0004_01</td>\n",
       "      <td>Earth</td>\n",
       "      <td>False</td>\n",
       "      <td>F/1/S</td>\n",
       "      <td>TRAPPIST-1e</td>\n",
       "      <td>16.0</td>\n",
       "      <td>False</td>\n",
       "      <td>303.0</td>\n",
       "      <td>70.0</td>\n",
       "      <td>151.0</td>\n",
       "      <td>565.0</td>\n",
       "      <td>2.0</td>\n",
       "      <td>Willy Santantines</td>\n",
       "      <td>True</td>\n",
       "    </tr>\n",
       "  </tbody>\n",
       "</table>\n",
       "</div>"
      ],
      "text/plain": [
       "  PassengerId HomePlanet CryoSleep  Cabin  Destination   Age    VIP  \\\n",
       "0     0001_01     Europa     False  B/0/P  TRAPPIST-1e  39.0  False   \n",
       "1     0002_01      Earth     False  F/0/S  TRAPPIST-1e  24.0  False   \n",
       "2     0003_01     Europa     False  A/0/S  TRAPPIST-1e  58.0   True   \n",
       "3     0003_02     Europa     False  A/0/S  TRAPPIST-1e  33.0  False   \n",
       "4     0004_01      Earth     False  F/1/S  TRAPPIST-1e  16.0  False   \n",
       "\n",
       "   RoomService  FoodCourt  ShoppingMall     Spa  VRDeck               Name  \\\n",
       "0          0.0        0.0           0.0     0.0     0.0    Maham Ofracculy   \n",
       "1        109.0        9.0          25.0   549.0    44.0       Juanna Vines   \n",
       "2         43.0     3576.0           0.0  6715.0    49.0      Altark Susent   \n",
       "3          0.0     1283.0         371.0  3329.0   193.0       Solam Susent   \n",
       "4        303.0       70.0         151.0   565.0     2.0  Willy Santantines   \n",
       "\n",
       "   Transported  \n",
       "0        False  \n",
       "1         True  \n",
       "2        False  \n",
       "3        False  \n",
       "4         True  "
      ]
     },
     "execution_count": 2,
     "metadata": {},
     "output_type": "execute_result"
    }
   ],
   "source": [
    "train_data = pd.read_csv(\"/kaggle/input/spaceship-titanic/train.csv\") # load training CSV file\n",
    "train_data.head() # show first 5 rows from dataset"
   ]
  },
  {
   "cell_type": "code",
   "execution_count": 3,
   "id": "b87a65af",
   "metadata": {
    "execution": {
     "iopub.execute_input": "2025-03-25T21:08:54.030074Z",
     "iopub.status.busy": "2025-03-25T21:08:54.029673Z",
     "iopub.status.idle": "2025-03-25T21:08:54.397462Z",
     "shell.execute_reply": "2025-03-25T21:08:54.396327Z"
    },
    "papermill": {
     "duration": 0.375625,
     "end_time": "2025-03-25T21:08:54.399235",
     "exception": false,
     "start_time": "2025-03-25T21:08:54.023610",
     "status": "completed"
    },
    "tags": []
   },
   "outputs": [
    {
     "name": "stderr",
     "output_type": "stream",
     "text": [
      "/usr/local/lib/python3.10/dist-packages/numpy/lib/histograms.py:825: RuntimeWarning: invalid value encountered in greater_equal\n",
      "  keep = (tmp_a >= first_edge)\n",
      "/usr/local/lib/python3.10/dist-packages/numpy/lib/histograms.py:826: RuntimeWarning: invalid value encountered in less_equal\n",
      "  keep &= (tmp_a <= last_edge)\n"
     ]
    },
    {
     "data": {
      "image/png": "[encoded data removed]",
      "text/plain": [
       "<Figure size 640x480 with 1 Axes>"
      ]
     },
     "metadata": {},
     "output_type": "display_data"
    }
   ],
   "source": [
    "\n",
    "\n",
    "age_distribution = plt.hist(train_data['Age'], bins = 50)\n",
    "plt.title('Age Distribution')\n",
    "plt.show()"
   ]
  },
  {
   "cell_type": "code",
   "execution_count": 4,
   "id": "7e138e59",
   "metadata": {
    "execution": {
     "iopub.execute_input": "2025-03-25T21:08:54.411622Z",
     "iopub.status.busy": "2025-03-25T21:08:54.411273Z",
     "iopub.status.idle": "2025-03-25T21:08:54.428844Z",
     "shell.execute_reply": "2025-03-25T21:08:54.427727Z"
    },
    "papermill": {
     "duration": 0.025896,
     "end_time": "2025-03-25T21:08:54.430732",
     "exception": false,
     "start_time": "2025-03-25T21:08:54.404836",
     "status": "completed"
    },
    "tags": []
   },
   "outputs": [
    {
     "data": {
      "text/html": [
       "<div>\n",
       "<style scoped>\n",
       "    .dataframe tbody tr th:only-of-type {\n",
       "        vertical-align: middle;\n",
       "    }\n",
       "\n",
       "    .dataframe tbody tr th {\n",
       "        vertical-align: top;\n",
       "    }\n",
       "\n",
       "    .dataframe thead th {\n",
       "        text-align: right;\n",
       "    }\n",
       "</style>\n",
       "<table border=\"1\" class=\"dataframe\">\n",
       "  <thead>\n",
       "    <tr style=\"text-align: right;\">\n",
       "      <th></th>\n",
       "      <th>HomePlanet</th>\n",
       "      <th>CryoSleep</th>\n",
       "      <th>Cabin</th>\n",
       "      <th>Destination</th>\n",
       "      <th>Age</th>\n",
       "      <th>VIP</th>\n",
       "      <th>RoomService</th>\n",
       "      <th>FoodCourt</th>\n",
       "      <th>ShoppingMall</th>\n",
       "      <th>Spa</th>\n",
       "      <th>VRDeck</th>\n",
       "      <th>Transported</th>\n",
       "    </tr>\n",
       "  </thead>\n",
       "  <tbody>\n",
       "  </tbody>\n",
       "</table>\n",
       "</div>"
      ],
      "text/plain": [
       "Empty DataFrame\n",
       "Columns: [HomePlanet, CryoSleep, Cabin, Destination, Age, VIP, RoomService, FoodCourt, ShoppingMall, Spa, VRDeck, Transported]\n",
       "Index: []"
      ]
     },
     "execution_count": 4,
     "metadata": {},
     "output_type": "execute_result"
    }
   ],
   "source": [
    "train_data = train_data.drop(['PassengerId', 'Name'], axis = 1)\n",
    "train_data.head(0)\n"
   ]
  },
  {
   "cell_type": "code",
   "execution_count": 5,
   "id": "6371159d",
   "metadata": {
    "execution": {
     "iopub.execute_input": "2025-03-25T21:08:54.443749Z",
     "iopub.status.busy": "2025-03-25T21:08:54.443344Z",
     "iopub.status.idle": "2025-03-25T21:08:54.449049Z",
     "shell.execute_reply": "2025-03-25T21:08:54.447718Z"
    },
    "papermill": {
     "duration": 0.014288,
     "end_time": "2025-03-25T21:08:54.451081",
     "exception": false,
     "start_time": "2025-03-25T21:08:54.436793",
     "status": "completed"
    },
    "tags": []
   },
   "outputs": [
    {
     "name": "stdout",
     "output_type": "stream",
     "text": [
      "Index(['HomePlanet', 'CryoSleep', 'Cabin', 'Destination', 'Age', 'VIP',\n",
      "       'RoomService', 'FoodCourt', 'ShoppingMall', 'Spa', 'VRDeck',\n",
      "       'Transported'],\n",
      "      dtype='object')\n"
     ]
    }
   ],
   "source": [
    "print(train_data.columns)"
   ]
  },
  {
   "cell_type": "code",
   "execution_count": 6,
   "id": "b5784f3b",
   "metadata": {
    "execution": {
     "iopub.execute_input": "2025-03-25T21:08:54.464170Z",
     "iopub.status.busy": "2025-03-25T21:08:54.463776Z",
     "iopub.status.idle": "2025-03-25T21:08:54.475653Z",
     "shell.execute_reply": "2025-03-25T21:08:54.474470Z"
    },
    "papermill": {
     "duration": 0.02026,
     "end_time": "2025-03-25T21:08:54.477307",
     "exception": false,
     "start_time": "2025-03-25T21:08:54.457047",
     "status": "completed"
    },
    "tags": []
   },
   "outputs": [
    {
     "data": {
      "text/plain": [
       "CryoSleep       217\n",
       "ShoppingMall    208\n",
       "VIP             203\n",
       "HomePlanet      201\n",
       "Cabin           199\n",
       "VRDeck          188\n",
       "FoodCourt       183\n",
       "Spa             183\n",
       "Destination     182\n",
       "RoomService     181\n",
       "Age             179\n",
       "Transported       0\n",
       "dtype: int64"
      ]
     },
     "execution_count": 6,
     "metadata": {},
     "output_type": "execute_result"
    }
   ],
   "source": [
    "train_data.isnull().sum().sort_values(ascending=False) # number of missing values (NaN) in each column"
   ]
  },
  {
   "cell_type": "markdown",
   "id": "1ef9107a",
   "metadata": {
    "papermill": {
     "duration": 0.005543,
     "end_time": "2025-03-25T21:08:54.488880",
     "exception": false,
     "start_time": "2025-03-25T21:08:54.483337",
     "status": "completed"
    },
    "tags": []
   },
   "source": [
    "Fill NaN's with 0's"
   ]
  },
  {
   "cell_type": "code",
   "execution_count": 7,
   "id": "21b10e40",
   "metadata": {
    "execution": {
     "iopub.execute_input": "2025-03-25T21:08:54.501959Z",
     "iopub.status.busy": "2025-03-25T21:08:54.501559Z",
     "iopub.status.idle": "2025-03-25T21:08:54.519210Z",
     "shell.execute_reply": "2025-03-25T21:08:54.518125Z"
    },
    "papermill": {
     "duration": 0.026261,
     "end_time": "2025-03-25T21:08:54.521004",
     "exception": false,
     "start_time": "2025-03-25T21:08:54.494743",
     "status": "completed"
    },
    "tags": []
   },
   "outputs": [
    {
     "data": {
      "text/plain": [
       "HomePlanet      201\n",
       "Cabin           199\n",
       "Destination     182\n",
       "RoomService     181\n",
       "Age             179\n",
       "CryoSleep         0\n",
       "VIP               0\n",
       "FoodCourt         0\n",
       "ShoppingMall      0\n",
       "Spa               0\n",
       "VRDeck            0\n",
       "Transported       0\n",
       "dtype: int64"
      ]
     },
     "execution_count": 7,
     "metadata": {},
     "output_type": "execute_result"
    }
   ],
   "source": [
    "train_data[['VIP', 'CryoSleep', 'FoodCourt', 'ShoppingMall', 'Spa', 'VRDeck']] = train_data[['VIP', 'CryoSleep', 'FoodCourt', 'ShoppingMall', 'Spa', 'VRDeck']].fillna(value = 0)\n",
    "train_data.isnull().sum().sort_values(ascending=False)"
   ]
  },
  {
   "cell_type": "markdown",
   "id": "4189e972",
   "metadata": {
    "papermill": {
     "duration": 0.005603,
     "end_time": "2025-03-25T21:08:54.532596",
     "exception": false,
     "start_time": "2025-03-25T21:08:54.526993",
     "status": "completed"
    },
    "tags": []
   },
   "source": [
    "Convert booleans into 0's and 1's"
   ]
  },
  {
   "cell_type": "code",
   "execution_count": 8,
   "id": "898a72f5",
   "metadata": {
    "execution": {
     "iopub.execute_input": "2025-03-25T21:08:54.545559Z",
     "iopub.status.busy": "2025-03-25T21:08:54.545184Z",
     "iopub.status.idle": "2025-03-25T21:08:54.551801Z",
     "shell.execute_reply": "2025-03-25T21:08:54.550814Z"
    },
    "papermill": {
     "duration": 0.01497,
     "end_time": "2025-03-25T21:08:54.553430",
     "exception": false,
     "start_time": "2025-03-25T21:08:54.538460",
     "status": "completed"
    },
    "tags": []
   },
   "outputs": [],
   "source": [
    "train_data['Transported'] = train_data['Transported'].astype(int)\n",
    "train_data['VIP'] = train_data['VIP'].astype(int)\n",
    "train_data['CryoSleep'] = train_data['CryoSleep'].astype(int)"
   ]
  },
  {
   "cell_type": "markdown",
   "id": "a9057797",
   "metadata": {
    "papermill": {
     "duration": 0.005548,
     "end_time": "2025-03-25T21:08:54.565193",
     "exception": false,
     "start_time": "2025-03-25T21:08:54.559645",
     "status": "completed"
    },
    "tags": []
   },
   "source": [
    "Split the cabins into deck, cabin number, and dide"
   ]
  },
  {
   "cell_type": "code",
   "execution_count": 9,
   "id": "4324e625",
   "metadata": {
    "execution": {
     "iopub.execute_input": "2025-03-25T21:08:54.578243Z",
     "iopub.status.busy": "2025-03-25T21:08:54.577665Z",
     "iopub.status.idle": "2025-03-25T21:08:54.597435Z",
     "shell.execute_reply": "2025-03-25T21:08:54.596271Z"
    },
    "papermill": {
     "duration": 0.028519,
     "end_time": "2025-03-25T21:08:54.599446",
     "exception": false,
     "start_time": "2025-03-25T21:08:54.570927",
     "status": "completed"
    },
    "tags": []
   },
   "outputs": [],
   "source": [
    "train_data[[\"Deck\", \"Cabin_num\", \"Side\"]] = train_data[\"Cabin\"].str.split(\"/\", expand=True)"
   ]
  },
  {
   "cell_type": "markdown",
   "id": "a19e301f",
   "metadata": {
    "papermill": {
     "duration": 0.006036,
     "end_time": "2025-03-25T21:08:54.611436",
     "exception": false,
     "start_time": "2025-03-25T21:08:54.605400",
     "status": "completed"
    },
    "tags": []
   },
   "source": [
    "Remove the Cabin column"
   ]
  },
  {
   "cell_type": "code",
   "execution_count": 10,
   "id": "1667decc",
   "metadata": {
    "execution": {
     "iopub.execute_input": "2025-03-25T21:08:54.625044Z",
     "iopub.status.busy": "2025-03-25T21:08:54.624622Z",
     "iopub.status.idle": "2025-03-25T21:08:54.632844Z",
     "shell.execute_reply": "2025-03-25T21:08:54.631842Z"
    },
    "papermill": {
     "duration": 0.017054,
     "end_time": "2025-03-25T21:08:54.634858",
     "exception": false,
     "start_time": "2025-03-25T21:08:54.617804",
     "status": "completed"
    },
    "tags": []
   },
   "outputs": [],
   "source": [
    "train_data = train_data.drop('Cabin', axis=1)\n"
   ]
  },
  {
   "cell_type": "code",
   "execution_count": 11,
   "id": "66c23b56",
   "metadata": {
    "execution": {
     "iopub.execute_input": "2025-03-25T21:08:54.648780Z",
     "iopub.status.busy": "2025-03-25T21:08:54.648371Z",
     "iopub.status.idle": "2025-03-25T21:08:54.659095Z",
     "shell.execute_reply": "2025-03-25T21:08:54.657743Z"
    },
    "papermill": {
     "duration": 0.019685,
     "end_time": "2025-03-25T21:08:54.660875",
     "exception": false,
     "start_time": "2025-03-25T21:08:54.641190",
     "status": "completed"
    },
    "tags": []
   },
   "outputs": [
    {
     "name": "stdout",
     "output_type": "stream",
     "text": [
      "6936 training, 1757 testing.\n"
     ]
    }
   ],
   "source": [
    "def split_dataset(dataset, test_ratio=0.20):\n",
    "  test_indices = np.random.rand(len(dataset)) < test_ratio\n",
    "  return dataset[~test_indices], dataset[test_indices]\n",
    "    \n",
    "train_dataset_pd,valid_dataset_pd = split_dataset(train_data)\n",
    "print(\"{} training, {} testing.\".format(\n",
    "    len(train_dataset_pd), len(valid_dataset_pd)))"
   ]
  },
  {
   "cell_type": "code",
   "execution_count": 12,
   "id": "be70d750",
   "metadata": {
    "execution": {
     "iopub.execute_input": "2025-03-25T21:08:54.674900Z",
     "iopub.status.busy": "2025-03-25T21:08:54.674544Z",
     "iopub.status.idle": "2025-03-25T21:08:54.778849Z",
     "shell.execute_reply": "2025-03-25T21:08:54.777796Z"
    },
    "papermill": {
     "duration": 0.113489,
     "end_time": "2025-03-25T21:08:54.780835",
     "exception": false,
     "start_time": "2025-03-25T21:08:54.667346",
     "status": "completed"
    },
    "tags": []
   },
   "outputs": [],
   "source": [
    "train_data_tf = tfdf.keras.pd_dataframe_to_tf_dataset(train_dataset_pd, label = 'Transported')\n",
    "valid_data_tf = tfdf.keras.pd_dataframe_to_tf_dataset(valid_dataset_pd, label= 'Transported')"
   ]
  },
  {
   "cell_type": "code",
   "execution_count": 13,
   "id": "b4f2e64c",
   "metadata": {
    "execution": {
     "iopub.execute_input": "2025-03-25T21:08:54.793867Z",
     "iopub.status.busy": "2025-03-25T21:08:54.793519Z",
     "iopub.status.idle": "2025-03-25T21:08:54.842192Z",
     "shell.execute_reply": "2025-03-25T21:08:54.841007Z"
    },
    "papermill": {
     "duration": 0.057388,
     "end_time": "2025-03-25T21:08:54.844219",
     "exception": false,
     "start_time": "2025-03-25T21:08:54.786831",
     "status": "completed"
    },
    "tags": []
   },
   "outputs": [
    {
     "name": "stdout",
     "output_type": "stream",
     "text": [
      "Use /tmp/tmpchnn1zmp as temporary training directory\n"
     ]
    }
   ],
   "source": [
    "rf = tfdf.keras.RandomForestModel()\n"
   ]
  },
  {
   "cell_type": "code",
   "execution_count": 14,
   "id": "988b159f",
   "metadata": {
    "execution": {
     "iopub.execute_input": "2025-03-25T21:08:54.858361Z",
     "iopub.status.busy": "2025-03-25T21:08:54.858005Z",
     "iopub.status.idle": "2025-03-25T21:09:53.034515Z",
     "shell.execute_reply": "2025-03-25T21:09:53.033075Z"
    },
    "papermill": {
     "duration": 58.18605,
     "end_time": "2025-03-25T21:09:53.036653",
     "exception": false,
     "start_time": "2025-03-25T21:08:54.850603",
     "status": "completed"
    },
    "tags": []
   },
   "outputs": [
    {
     "name": "stdout",
     "output_type": "stream",
     "text": [
      "Reading training dataset...\n",
      "Training dataset read in 0:00:05.093224. Found 6936 examples.\n",
      "Training model...\n",
      "Model trained in 0:00:51.978727\n",
      "Compiling model...\n",
      "Model compiled.\n"
     ]
    },
    {
     "data": {
      "text/plain": [
       "<tf_keras.src.callbacks.History at 0x7cbacc77ef80>"
      ]
     },
     "execution_count": 14,
     "metadata": {},
     "output_type": "execute_result"
    }
   ],
   "source": [
    "rf.fit(x = train_data_tf)"
   ]
  },
  {
   "cell_type": "code",
   "execution_count": 15,
   "id": "d01442a0",
   "metadata": {
    "execution": {
     "iopub.execute_input": "2025-03-25T21:09:53.051478Z",
     "iopub.status.busy": "2025-03-25T21:09:53.050887Z",
     "iopub.status.idle": "2025-03-25T21:09:53.532199Z",
     "shell.execute_reply": "2025-03-25T21:09:53.530732Z"
    },
    "papermill": {
     "duration": 0.491505,
     "end_time": "2025-03-25T21:09:53.534891",
     "exception": false,
     "start_time": "2025-03-25T21:09:53.043386",
     "status": "completed"
    },
    "tags": []
   },
   "outputs": [
    {
     "data": {
      "text/html": [
       "\n",
       "<script src=\"https://d3js.org/d3.v6.min.js\"></script>\n",
       "<div id=\"tree_plot_421110c16e76466e9fb99ac2a1e0b622\"></div>\n",
       "<script>\n",
       "/*\n",
       " * Copyright 2021 Google LLC.\n",
       " * Licensed under the Apache License, Version 2.0 (the \"License\");\n",
       " * you may not use this file except in compliance with the License.\n",
       " * You may obtain a copy of the License at\n",
       " *\n",
       " *     https://www.apache.org/licenses/LICENSE-2.0\n",
       " *\n",
       " * Unless required by applicable law or agreed to in writing, software\n",
       " * distributed under the License is distributed on an \"AS IS\" BASIS,\n",
       " * WITHOUT WARRANTIES OR CONDITIONS OF ANY KIND, either express or implied.\n",
       " * See the License for the specific language governing permissions and\n",
       " * limitations under the License.\n",
       " */\n",
       "\n",
       "/**\n",
       " *  Plotting of decision trees generated by TF-DF.\n",
       " *\n",
       " *  A tree is a recursive structure of node objects.\n",
       " *  A node contains one or more of the following components:\n",
       " *\n",
       " *    - A value: Representing the output of the node. If the node is not a leaf,\n",
       " *      the value is only present for analysis i.e. it is not used for\n",
       " *      predictions.\n",
       " *\n",
       " *    - A condition : For non-leaf nodes, the condition (also known as split)\n",
       " *      defines a binary test to branch to the positive or negative child.\n",
       " *\n",
       " *    - An explanation: Generally a plot showing the relation between the label\n",
       " *      and the condition to give insights about the effect of the condition.\n",
       " *\n",
       " *    - Two children : For non-leaf nodes, the children nodes. The first\n",
       " *      children (i.e. \"node.children[0]\") is the negative children (drawn in\n",
       " *      red). The second children is the positive one (drawn in green).\n",
       " *\n",
       " */\n",
       "\n",
       "/**\n",
       " * Plots a single decision tree into a DOM element.\n",
       " * @param {!options} options Dictionary of configurations.\n",
       " * @param {!tree} raw_tree Recursive tree structure.\n",
       " * @param {string} canvas_id Id of the output dom element.\n",
       " */\n",
       "function display_tree(options, raw_tree, canvas_id) {\n",
       "  console.log(options);\n",
       "\n",
       "  // Determine the node placement.\n",
       "  const tree_struct = d3.tree().nodeSize(\n",
       "      [options.node_y_offset, options.node_x_offset])(d3.hierarchy(raw_tree));\n",
       "\n",
       "  // Boundaries of the node placement.\n",
       "  let x_min = Infinity;\n",
       "  let x_max = -x_min;\n",
       "  let y_min = Infinity;\n",
       "  let y_max = -x_min;\n",
       "\n",
       "  tree_struct.each(d => {\n",
       "    if (d.x > x_max) x_max = d.x;\n",
       "    if (d.x < x_min) x_min = d.x;\n",
       "    if (d.y > y_max) y_max = d.y;\n",
       "    if (d.y < y_min) y_min = d.y;\n",
       "  });\n",
       "\n",
       "  // Size of the plot.\n",
       "  const width = y_max - y_min + options.node_x_size + options.margin * 2;\n",
       "  const height = x_max - x_min + options.node_y_size + options.margin * 2 +\n",
       "      options.node_y_offset - options.node_y_size;\n",
       "\n",
       "  const plot = d3.select(canvas_id);\n",
       "\n",
       "  // Tool tip\n",
       "  options.tooltip = plot.append('div')\n",
       "                        .attr('width', 100)\n",
       "                        .attr('height', 100)\n",
       "                        .style('padding', '4px')\n",
       "                        .style('background', '#fff')\n",
       "                        .style('box-shadow', '4px 4px 0px rgba(0,0,0,0.1)')\n",
       "                        .style('border', '1px solid black')\n",
       "                        .style('font-family', 'sans-serif')\n",
       "                        .style('font-size', options.font_size)\n",
       "                        .style('position', 'absolute')\n",
       "                        .style('z-index', '10')\n",
       "                        .attr('pointer-events', 'none')\n",
       "                        .style('display', 'none');\n",
       "\n",
       "  // Create canvas\n",
       "  const svg = plot.append('svg').attr('width', width).attr('height', height);\n",
       "  const graph =\n",
       "      svg.style('overflow', 'visible')\n",
       "          .append('g')\n",
       "          .attr('font-family', 'sans-serif')\n",
       "          .attr('font-size', options.font_size)\n",
       "          .attr(\n",
       "              'transform',\n",
       "              () => `translate(${options.margin},${\n",
       "                  - x_min + options.node_y_offset / 2 + options.margin})`);\n",
       "\n",
       "  // Plot bounding box.\n",
       "  if (options.show_plot_bounding_box) {\n",
       "    svg.append('rect')\n",
       "        .attr('width', width)\n",
       "        .attr('height', height)\n",
       "        .attr('fill', 'none')\n",
       "        .attr('stroke-width', 1.0)\n",
       "        .attr('stroke', 'black');\n",
       "  }\n",
       "\n",
       "  // Draw the edges.\n",
       "  display_edges(options, graph, tree_struct);\n",
       "\n",
       "  // Draw the nodes.\n",
       "  display_nodes(options, graph, tree_struct);\n",
       "}\n",
       "\n",
       "/**\n",
       " * Draw the nodes of the tree.\n",
       " * @param {!options} options Dictionary of configurations.\n",
       " * @param {!graph} graph D3 search handle containing the graph.\n",
       " * @param {!tree_struct} tree_struct Structure of the tree (node placement,\n",
       " *     data, etc.).\n",
       " */\n",
       "function display_nodes(options, graph, tree_struct) {\n",
       "  const nodes = graph.append('g')\n",
       "                    .selectAll('g')\n",
       "                    .data(tree_struct.descendants())\n",
       "                    .join('g')\n",
       "                    .attr('transform', d => `translate(${d.y},${d.x})`);\n",
       "\n",
       "  nodes.append('rect')\n",
       "      .attr('x', 0.5)\n",
       "      .attr('y', 0.5)\n",
       "      .attr('width', options.node_x_size)\n",
       "      .attr('height', options.node_y_size)\n",
       "      .attr('stroke', 'lightgrey')\n",
       "      .attr('stroke-width', 1)\n",
       "      .attr('fill', 'white')\n",
       "      .attr('y', -options.node_y_size / 2);\n",
       "\n",
       "  // Brackets on the right of condition nodes without children.\n",
       "  non_leaf_node_without_children =\n",
       "      nodes.filter(node => node.data.condition != null && node.children == null)\n",
       "          .append('g')\n",
       "          .attr('transform', `translate(${options.node_x_size},0)`);\n",
       "\n",
       "  non_leaf_node_without_children.append('path')\n",
       "      .attr('d', 'M0,0 C 10,0 0,10 10,10')\n",
       "      .attr('fill', 'none')\n",
       "      .attr('stroke-width', 1.0)\n",
       "      .attr('stroke', '#F00');\n",
       "\n",
       "  non_leaf_node_without_children.append('path')\n",
       "      .attr('d', 'M0,0 C 10,0 0,-10 10,-10')\n",
       "      .attr('fill', 'none')\n",
       "      .attr('stroke-width', 1.0)\n",
       "      .attr('stroke', '#0F0');\n",
       "\n",
       "  const node_content = nodes.append('g').attr(\n",
       "      'transform',\n",
       "      `translate(0,${options.node_padding - options.node_y_size / 2})`);\n",
       "\n",
       "  node_content.append(node => create_node_element(options, node));\n",
       "}\n",
       "\n",
       "/**\n",
       " * Creates the D3 content for a single node.\n",
       " * @param {!options} options Dictionary of configurations.\n",
       " * @param {!node} node Node to draw.\n",
       " * @return {!d3} D3 content.\n",
       " */\n",
       "function create_node_element(options, node) {\n",
       "  // Output accumulator.\n",
       "  let output = {\n",
       "    // Content to draw.\n",
       "    content: d3.create('svg:g'),\n",
       "    // Vertical offset to the next element to draw.\n",
       "    vertical_offset: 0\n",
       "  };\n",
       "\n",
       "  // Conditions.\n",
       "  if (node.data.condition != null) {\n",
       "    display_condition(options, node.data.condition, output);\n",
       "  }\n",
       "\n",
       "  // Values.\n",
       "  if (node.data.value != null) {\n",
       "    display_value(options, node.data.value, output);\n",
       "  }\n",
       "\n",
       "  // Explanations.\n",
       "  if (node.data.explanation != null) {\n",
       "    display_explanation(options, node.data.explanation, output);\n",
       "  }\n",
       "\n",
       "  return output.content.node();\n",
       "}\n",
       "\n",
       "\n",
       "/**\n",
       " * Adds a single line of text inside of a node.\n",
       " * @param {!options} options Dictionary of configurations.\n",
       " * @param {string} text Text to display.\n",
       " * @param {!output} output Output display accumulator.\n",
       " */\n",
       "function display_node_text(options, text, output) {\n",
       "  output.content.append('text')\n",
       "      .attr('x', options.node_padding)\n",
       "      .attr('y', output.vertical_offset)\n",
       "      .attr('alignment-baseline', 'hanging')\n",
       "      .text(text);\n",
       "  output.vertical_offset += 10;\n",
       "}\n",
       "\n",
       "/**\n",
       " * Adds a single line of text inside of a node with a tooltip.\n",
       " * @param {!options} options Dictionary of configurations.\n",
       " * @param {string} text Text to display.\n",
       " * @param {string} tooltip Text in the Tooltip.\n",
       " * @param {!output} output Output display accumulator.\n",
       " */\n",
       "function display_node_text_with_tooltip(options, text, tooltip, output) {\n",
       "  const item = output.content.append('text')\n",
       "                   .attr('x', options.node_padding)\n",
       "                   .attr('alignment-baseline', 'hanging')\n",
       "                   .text(text);\n",
       "\n",
       "  add_tooltip(options, item, () => tooltip);\n",
       "  output.vertical_offset += 10;\n",
       "}\n",
       "\n",
       "/**\n",
       " * Adds a tooltip to a dom element.\n",
       " * @param {!options} options Dictionary of configurations.\n",
       " * @param {!dom} target Dom element to equip with a tooltip.\n",
       " * @param {!func} get_content Generates the html content of the tooltip.\n",
       " */\n",
       "function add_tooltip(options, target, get_content) {\n",
       "  function show(d) {\n",
       "    options.tooltip.style('display', 'block');\n",
       "    options.tooltip.html(get_content());\n",
       "  }\n",
       "\n",
       "  function hide(d) {\n",
       "    options.tooltip.style('display', 'none');\n",
       "  }\n",
       "\n",
       "  function move(d) {\n",
       "    options.tooltip.style('display', 'block');\n",
       "    options.tooltip.style('left', (d.pageX + 5) + 'px');\n",
       "    options.tooltip.style('top', d.pageY + 'px');\n",
       "  }\n",
       "\n",
       "  target.on('mouseover', show);\n",
       "  target.on('mouseout', hide);\n",
       "  target.on('mousemove', move);\n",
       "}\n",
       "\n",
       "/**\n",
       " * Adds a condition inside of a node.\n",
       " * @param {!options} options Dictionary of configurations.\n",
       " * @param {!condition} condition Condition to display.\n",
       " * @param {!output} output Output display accumulator.\n",
       " */\n",
       "function display_condition(options, condition, output) {\n",
       "  threshold_format = d3.format('r');\n",
       "\n",
       "  if (condition.type === 'IS_MISSING') {\n",
       "    display_node_text(options, `${condition.attribute} is missing`, output);\n",
       "    return;\n",
       "  }\n",
       "\n",
       "  if (condition.type === 'IS_TRUE') {\n",
       "    display_node_text(options, `${condition.attribute} is true`, output);\n",
       "    return;\n",
       "  }\n",
       "\n",
       "  if (condition.type === 'NUMERICAL_IS_HIGHER_THAN') {\n",
       "    format = d3.format('r');\n",
       "    display_node_text(\n",
       "        options,\n",
       "        `${condition.attribute} >= ${threshold_format(condition.threshold)}`,\n",
       "        output);\n",
       "    return;\n",
       "  }\n",
       "\n",
       "  if (condition.type === 'CATEGORICAL_IS_IN') {\n",
       "    display_node_text_with_tooltip(\n",
       "        options, `${condition.attribute} in [...]`,\n",
       "        `${condition.attribute} in [${condition.mask}]`, output);\n",
       "    return;\n",
       "  }\n",
       "\n",
       "  if (condition.type === 'CATEGORICAL_SET_CONTAINS') {\n",
       "    display_node_text_with_tooltip(\n",
       "        options, `${condition.attribute} intersect [...]`,\n",
       "        `${condition.attribute} intersect [${condition.mask}]`, output);\n",
       "    return;\n",
       "  }\n",
       "\n",
       "  if (condition.type === 'NUMERICAL_SPARSE_OBLIQUE') {\n",
       "    display_node_text_with_tooltip(\n",
       "        options, `Sparse oblique split...`,\n",
       "        `[${condition.attributes}]*[${condition.weights}]>=${\n",
       "            threshold_format(condition.threshold)}`,\n",
       "        output);\n",
       "    return;\n",
       "  }\n",
       "\n",
       "  display_node_text(\n",
       "      options, `Non supported condition ${condition.type}`, output);\n",
       "}\n",
       "\n",
       "/**\n",
       " * Adds a value inside of a node.\n",
       " * @param {!options} options Dictionary of configurations.\n",
       " * @param {!value} value Value to display.\n",
       " * @param {!output} output Output display accumulator.\n",
       " */\n",
       "function display_value(options, value, output) {\n",
       "  if (value.type === 'PROBABILITY') {\n",
       "    const left_margin = 0;\n",
       "    const right_margin = 50;\n",
       "    const plot_width = options.node_x_size - options.node_padding * 2 -\n",
       "        left_margin - right_margin;\n",
       "\n",
       "    let cusum = Array.from(d3.cumsum(value.distribution));\n",
       "    cusum.unshift(0);\n",
       "    const distribution_plot = output.content.append('g').attr(\n",
       "        'transform', `translate(0,${output.vertical_offset + 0.5})`);\n",
       "\n",
       "    distribution_plot.selectAll('rect')\n",
       "        .data(value.distribution)\n",
       "        .join('rect')\n",
       "        .attr('height', 10)\n",
       "        .attr(\n",
       "            'x',\n",
       "            (d, i) =>\n",
       "                (cusum[i] * plot_width + left_margin + options.node_padding))\n",
       "        .attr('width', (d, i) => d * plot_width)\n",
       "        .style('fill', (d, i) => d3.schemeSet1[i]);\n",
       "\n",
       "    const num_examples =\n",
       "        output.content.append('g')\n",
       "            .attr('transform', `translate(0,${output.vertical_offset})`)\n",
       "            .append('text')\n",
       "            .attr('x', options.node_x_size - options.node_padding)\n",
       "            .attr('alignment-baseline', 'hanging')\n",
       "            .attr('text-anchor', 'end')\n",
       "            .text(`(${value.num_examples})`);\n",
       "\n",
       "    const distribution_details = d3.create('ul');\n",
       "    distribution_details.selectAll('li')\n",
       "        .data(value.distribution)\n",
       "        .join('li')\n",
       "        .append('span')\n",
       "        .text(\n",
       "            (d, i) =>\n",
       "                'class ' + i + ': ' + d3.format('.3%')(value.distribution[i]));\n",
       "\n",
       "    add_tooltip(options, distribution_plot, () => distribution_details.html());\n",
       "    add_tooltip(options, num_examples, () => 'Number of examples');\n",
       "\n",
       "    output.vertical_offset += 10;\n",
       "    return;\n",
       "  }\n",
       "\n",
       "  if (value.type === 'REGRESSION') {\n",
       "    display_node_text(\n",
       "        options,\n",
       "        'value: ' + d3.format('r')(value.value) + ` (` +\n",
       "            d3.format('.6')(value.num_examples) + `)`,\n",
       "        output);\n",
       "    return;\n",
       "  }\n",
       "\n",
       "  if (value.type === 'UPLIFT') {\n",
       "    display_node_text(\n",
       "        options,\n",
       "        'effect: ' + d3.format('r')(value.treatment_effect) + ` (` +\n",
       "            d3.format('.6')(value.num_examples) + `)`,\n",
       "        output);\n",
       "    return;\n",
       "  }\n",
       "\n",
       "  display_node_text(options, `Non supported value ${value.type}`, output);\n",
       "}\n",
       "\n",
       "/**\n",
       " * Adds an explanation inside of a node.\n",
       " * @param {!options} options Dictionary of configurations.\n",
       " * @param {!explanation} explanation Explanation to display.\n",
       " * @param {!output} output Output display accumulator.\n",
       " */\n",
       "function display_explanation(options, explanation, output) {\n",
       "  // Margin before the explanation.\n",
       "  output.vertical_offset += 10;\n",
       "\n",
       "  display_node_text(\n",
       "      options, `Non supported explanation ${explanation.type}`, output);\n",
       "}\n",
       "\n",
       "\n",
       "/**\n",
       " * Draw the edges of the tree.\n",
       " * @param {!options} options Dictionary of configurations.\n",
       " * @param {!graph} graph D3 search handle containing the graph.\n",
       " * @param {!tree_struct} tree_struct Structure of the tree (node placement,\n",
       " *     data, etc.).\n",
       " */\n",
       "function display_edges(options, graph, tree_struct) {\n",
       "  // Draw an edge between a parent and a child node with a bezier.\n",
       "  function draw_single_edge(d) {\n",
       "    return 'M' + (d.source.y + options.node_x_size) + ',' + d.source.x + ' C' +\n",
       "        (d.source.y + options.node_x_size + options.edge_rounding) + ',' +\n",
       "        d.source.x + ' ' + (d.target.y - options.edge_rounding) + ',' +\n",
       "        d.target.x + ' ' + d.target.y + ',' + d.target.x;\n",
       "  }\n",
       "\n",
       "  graph.append('g')\n",
       "      .attr('fill', 'none')\n",
       "      .attr('stroke-width', 1.2)\n",
       "      .selectAll('path')\n",
       "      .data(tree_struct.links())\n",
       "      .join('path')\n",
       "      .attr('d', draw_single_edge)\n",
       "      .attr(\n",
       "          'stroke', d => (d.target === d.source.children[0]) ? '#0F0' : '#F00');\n",
       "}\n",
       "\n",
       "display_tree({\"margin\": 10, \"node_x_size\": 160, \"node_y_size\": 28, \"node_x_offset\": 180, \"node_y_offset\": 33, \"font_size\": 10, \"edge_rounding\": 20, \"node_padding\": 2, \"show_plot_bounding_box\": false}, {\"value\": {\"type\": \"PROBABILITY\", \"distribution\": [0.49091695501730104, 0.509083044982699], \"num_examples\": 6936.0}, \"condition\": {\"type\": \"NUMERICAL_IS_HIGHER_THAN\", \"attribute\": \"Spa\", \"threshold\": 0.5}, \"children\": [{\"value\": {\"type\": \"PROBABILITY\", \"distribution\": [0.7284, 0.2716], \"num_examples\": 2500.0}, \"condition\": {\"type\": \"NUMERICAL_IS_HIGHER_THAN\", \"attribute\": \"FoodCourt\", \"threshold\": 1399.5}, \"children\": [{\"value\": {\"type\": \"PROBABILITY\", \"distribution\": [0.4186046511627907, 0.5813953488372093], \"num_examples\": 473.0}, \"condition\": {\"type\": \"CATEGORICAL_IS_IN\", \"attribute\": \"Cabin_num\", \"mask\": [\"82\", \"42\", \"281\", \"72\", \"56\", \"47\", \"43\", \"18\", \"175\", \"140\", \"133\", \"118\", \"95\", \"80\", \"68\", \"57\", \"3\", \"258\", \"166\", \"151\", \"125\", \"99\", \"9\", \"75\", \"283\", \"238\", \"187\", \"53\", \"37\", \"317\", \"23\", \"225\", \"171\", \"0\", \"78\", \"48\", \"32\", \"25\", \"237\", \"216\", \"215\", \"206\", \"199\", \"190\", \"179\", \"119\", \"1\", \"90\", \"55\", \"51\", \"29\", \"285\", \"277\", \"272\", \"252\", \"217\", \"196\", \"181\", \"145\", \"113\", \"71\", \"66\", \"329\", \"299\", \"253\", \"220\", \"214\", \"143\", \"135\", \"132\", \"116\", \"104\", \"76\", \"249\", \"198\", \"141\", \"961\", \"340\", \"257\", \"162\", \"157\", \"146\", \"131\", \"585\", \"439\", \"304\", \"274\"]}, \"children\": [{\"value\": {\"type\": \"PROBABILITY\", \"distribution\": [0.30414746543778803, 0.695852534562212], \"num_examples\": 217.0}, \"condition\": {\"type\": \"NUMERICAL_IS_HIGHER_THAN\", \"attribute\": \"VIP\", \"threshold\": 0.5}}, {\"value\": {\"type\": \"PROBABILITY\", \"distribution\": [0.515625, 0.484375], \"num_examples\": 256.0}, \"condition\": {\"type\": \"NUMERICAL_IS_HIGHER_THAN\", \"attribute\": \"Spa\", \"threshold\": 601.5}}]}, {\"value\": {\"type\": \"PROBABILITY\", \"distribution\": [0.8006906758756783, 0.19930932412432165], \"num_examples\": 2027.0}, \"condition\": {\"type\": \"NUMERICAL_IS_HIGHER_THAN\", \"attribute\": \"ShoppingMall\", \"threshold\": 539.0}, \"children\": [{\"value\": {\"type\": \"PROBABILITY\", \"distribution\": [0.5909090909090909, 0.4090909090909091], \"num_examples\": 330.0}, \"condition\": {\"type\": \"NUMERICAL_IS_HIGHER_THAN\", \"attribute\": \"RoomService\", \"threshold\": 304.5}}, {\"value\": {\"type\": \"PROBABILITY\", \"distribution\": [0.8414849734826164, 0.1585150265173836], \"num_examples\": 1697.0}, \"condition\": {\"type\": \"NUMERICAL_IS_HIGHER_THAN\", \"attribute\": \"Spa\", \"threshold\": 2047.5}}]}]}, {\"value\": {\"type\": \"PROBABILITY\", \"distribution\": [0.3570784490532011, 0.6429215509467989], \"num_examples\": 4436.0}, \"condition\": {\"type\": \"NUMERICAL_IS_HIGHER_THAN\", \"attribute\": \"RoomService\", \"threshold\": 278.5}, \"children\": [{\"value\": {\"type\": \"PROBABILITY\", \"distribution\": [0.8459016393442623, 0.1540983606557377], \"num_examples\": 610.0}, \"condition\": {\"type\": \"NUMERICAL_IS_HIGHER_THAN\", \"attribute\": \"FoodCourt\", \"threshold\": 1251.5}, \"children\": [{\"value\": {\"type\": \"PROBABILITY\", \"distribution\": [0.3333333333333333, 0.6666666666666666], \"num_examples\": 15.0}, \"condition\": {\"type\": \"NUMERICAL_IS_HIGHER_THAN\", \"attribute\": \"ShoppingMall\", \"threshold\": 20.0}}, {\"value\": {\"type\": \"PROBABILITY\", \"distribution\": [0.8588235294117647, 0.1411764705882353], \"num_examples\": 595.0}, \"condition\": {\"type\": \"NUMERICAL_IS_HIGHER_THAN\", \"attribute\": \"ShoppingMall\", \"threshold\": 1960.5}}]}, {\"value\": {\"type\": \"PROBABILITY\", \"distribution\": [0.2791427077888134, 0.7208572922111867], \"num_examples\": 3826.0}, \"condition\": {\"type\": \"CATEGORICAL_IS_IN\", \"attribute\": \"HomePlanet\", \"mask\": [\"Europa\", \"Mars\"]}, \"children\": [{\"value\": {\"type\": \"PROBABILITY\", \"distribution\": [0.10392034847542003, 0.8960796515245799], \"num_examples\": 1607.0}, \"condition\": {\"type\": \"CATEGORICAL_IS_IN\", \"attribute\": \"Deck\", \"mask\": [\"F\", \"B\", \"C\", \"D\"]}}, {\"value\": {\"type\": \"PROBABILITY\", \"distribution\": [0.4060387561964849, 0.5939612438035151], \"num_examples\": 2219.0}, \"condition\": {\"type\": \"NUMERICAL_IS_HIGHER_THAN\", \"attribute\": \"VRDeck\", \"threshold\": 126.5}}]}]}]}, \"#tree_plot_421110c16e76466e9fb99ac2a1e0b622\")\n",
       "</script>\n"
      ],
      "text/plain": [
       "<IPython.core.display.HTML object>"
      ]
     },
     "execution_count": 15,
     "metadata": {},
     "output_type": "execute_result"
    }
   ],
   "source": [
    "tfdf.model_plotter.plot_model_in_colab(rf, tree_idx=0, max_depth = 3)"
   ]
  },
  {
   "cell_type": "code",
   "execution_count": 16,
   "id": "e9ca4721",
   "metadata": {
    "execution": {
     "iopub.execute_input": "2025-03-25T21:09:53.551463Z",
     "iopub.status.busy": "2025-03-25T21:09:53.551113Z",
     "iopub.status.idle": "2025-03-25T21:09:53.726236Z",
     "shell.execute_reply": "2025-03-25T21:09:53.725077Z"
    },
    "papermill": {
     "duration": 0.185253,
     "end_time": "2025-03-25T21:09:53.728056",
     "exception": false,
     "start_time": "2025-03-25T21:09:53.542803",
     "status": "completed"
    },
    "tags": []
   },
   "outputs": [
    {
     "data": {
      "image/png": "[encoded data removed]",
      "text/plain": [
       "<Figure size 640x480 with 1 Axes>"
      ]
     },
     "metadata": {},
     "output_type": "display_data"
    },
    {
     "data": {
      "text/plain": [
       "Evaluation(num_examples=6936, accuracy=0.7974336793540946, loss=0.5570032457002538, rmse=None, ndcg=None, aucs=None, auuc=None, qini=None)"
      ]
     },
     "execution_count": 16,
     "metadata": {},
     "output_type": "execute_result"
    }
   ],
   "source": [
    "logs = rf.make_inspector().training_logs()\n",
    "plt.plot([log.num_trees for log in logs], [log.evaluation.accuracy for log in logs])\n",
    "plt.xlabel(\"Number of trees\")\n",
    "plt.ylabel(\"Accuracy (out-of-bag)\")\n",
    "plt.show()\n",
    "\n",
    "inspector = rf.make_inspector()\n",
    "inspector.evaluation()"
   ]
  },
  {
   "cell_type": "code",
   "execution_count": 17,
   "id": "47a03ebe",
   "metadata": {
    "execution": {
     "iopub.execute_input": "2025-03-25T21:09:53.745122Z",
     "iopub.status.busy": "2025-03-25T21:09:53.744692Z",
     "iopub.status.idle": "2025-03-25T21:09:54.218555Z",
     "shell.execute_reply": "2025-03-25T21:09:54.217308Z"
    },
    "papermill": {
     "duration": 0.484785,
     "end_time": "2025-03-25T21:09:54.220586",
     "exception": false,
     "start_time": "2025-03-25T21:09:53.735801",
     "status": "completed"
    },
    "tags": []
   },
   "outputs": [
    {
     "name": "stdout",
     "output_type": "stream",
     "text": [
      "2/2 [==============================] - 0s 71ms/step - loss: 0.0000e+00\n",
      "loss: 0.0000\n"
     ]
    }
   ],
   "source": [
    "evaluation = rf.evaluate(x=valid_data_tf,return_dict=True)\n",
    "\n",
    "for name, value in evaluation.items():\n",
    "  print(f\"{name}: {value:.4f}\")"
   ]
  },
  {
   "cell_type": "markdown",
   "id": "6af6affc",
   "metadata": {
    "papermill": {
     "duration": 0.007581,
     "end_time": "2025-03-25T21:09:54.236367",
     "exception": false,
     "start_time": "2025-03-25T21:09:54.228786",
     "status": "completed"
    },
    "tags": []
   },
   "source": [
    "## Submission"
   ]
  },
  {
   "cell_type": "code",
   "execution_count": 18,
   "id": "dbaa6f38",
   "metadata": {
    "execution": {
     "iopub.execute_input": "2025-03-25T21:09:54.254531Z",
     "iopub.status.busy": "2025-03-25T21:09:54.254138Z",
     "iopub.status.idle": "2025-03-25T21:09:54.864972Z",
     "shell.execute_reply": "2025-03-25T21:09:54.863681Z"
    },
    "papermill": {
     "duration": 0.622892,
     "end_time": "2025-03-25T21:09:54.867069",
     "exception": false,
     "start_time": "2025-03-25T21:09:54.244177",
     "status": "completed"
    },
    "tags": []
   },
   "outputs": [
    {
     "name": "stderr",
     "output_type": "stream",
     "text": [
      "/usr/local/lib/python3.10/dist-packages/pandas/io/formats/format.py:1458: RuntimeWarning: invalid value encountered in greater\n",
      "  has_large_values = (abs_vals > 1e6).any()\n",
      "/usr/local/lib/python3.10/dist-packages/pandas/io/formats/format.py:1459: RuntimeWarning: invalid value encountered in less\n",
      "  has_small_values = ((abs_vals < 10 ** (-self.digits)) & (abs_vals > 0)).any()\n",
      "/usr/local/lib/python3.10/dist-packages/pandas/io/formats/format.py:1459: RuntimeWarning: invalid value encountered in greater\n",
      "  has_small_values = ((abs_vals < 10 ** (-self.digits)) & (abs_vals > 0)).any()\n"
     ]
    },
    {
     "name": "stdout",
     "output_type": "stream",
     "text": [
      "5/5 [==============================] - 0s 71ms/step\n",
      "Submission file saved!\n",
      "  PassengerId  Transported\n",
      "0     0013_01         True\n",
      "1     0018_01         True\n",
      "2     0019_01         True\n",
      "3     0021_01         True\n",
      "4     0023_01         True\n",
      "Done! Submission file saved.\n"
     ]
    }
   ],
   "source": [
    "# Load test dataset\n",
    "test_data = pd.read_csv('/kaggle/input/spaceship-titanic/test.csv')\n",
    "\n",
    "# Convert NaN values with zero because tfrf can't process missing boolean values\n",
    "test_data[['VIP', 'CryoSleep']] = test_data[['VIP', 'CryoSleep']].fillna(value = 0)\n",
    "\n",
    "# Convert booleans into 1's and 0's\n",
    "test_data['VIP'] = test_data['VIP'].astype(int)\n",
    "test_data['CryoSleep'] = test_data['CryoSleep'].astype(int)\n",
    "\n",
    "# Split Cabin into Deck, Cab_num, and Side\n",
    "test_data[[\"Deck\", \"Cabin_num\", \"Side\"]] = test_data[\"Cabin\"].str.split(\"/\", expand=True)\n",
    "\n",
    "# Remove Cabin\n",
    "test_data = test_data.drop('Cabin', axis = 1)\n",
    "\n",
    "# convert pandas dataframe to tensor flow dataset\n",
    "test_data_tf = tfdf.keras.pd_dataframe_to_tf_dataset(test_data)\n",
    "\n",
    "# Predict\n",
    "raw_preds = list(rf.predict(test_data_tf))\n",
    "predictions = [bool(pred[0]) for pred in raw_preds]\n",
    "\n",
    "submission = pd.DataFrame({\n",
    "    \"PassengerId\": test_data[\"PassengerId\"],\n",
    "    \"Transported\": predictions\n",
    "})\n",
    "submission.to_csv(\"submission.csv\", index=False)\n",
    "\n",
    "\n",
    "print(\"Submission file saved!\")\n",
    "print(submission.head())\n",
    "print(\"Done! Submission file saved.\")"
   ]
  }
 ],
 "metadata": {
  "kaggle": {
   "accelerator": "none",
   "dataSources": [
    {
     "datasetId": 6959117,
     "sourceId": 11153883,
     "sourceType": "datasetVersion"
    }
   ],
   "dockerImageVersionId": 30918,
   "isGpuEnabled": false,
   "isInternetEnabled": true,
   "language": "python",
   "sourceType": "notebook"
  },
  "kernelspec": {
   "display_name": "Python 3",
   "language": "python",
   "name": "python3"
  },
  "language_info": {
   "codemirror_mode": {
    "name": "ipython",
    "version": 3
   },
   "file_extension": ".py",
   "mimetype": "text/x-python",
   "name": "python",
   "nbconvert_exporter": "python",
   "pygments_lexer": "ipython3",
   "version": "3.10.12"
  },
  "papermill": {
   "default_parameters": {},
   "duration": 85.690877,
   "end_time": "2025-03-25T21:09:57.458758",
   "environment_variables": {},
   "exception": null,
   "input_path": "__notebook__.ipynb",
   "output_path": "__notebook__.ipynb",
   "parameters": {},
   "start_time": "2025-03-25T21:08:31.767881",
   "version": "2.6.0"
  }
 },
 "nbformat": 4,
 "nbformat_minor": 5
}
